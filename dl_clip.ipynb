{
 "cells": [
  {
   "cell_type": "markdown",
   "metadata": {},
   "source": [
    "# Image Based Visual Serviong(IBVS) via DL-Clip and DL-Online\n",
    "\n",
    "Implementing the IBVS algorithm through DL-Clip and DL-Online, this notebook contains everything from data sampling, feature extraction neural network training, initial controller training, to iterative policy updates, and the comparison of the effect of DL-Clip and DL-Online is carried out."
   ]
  },
  {
   "cell_type": "markdown",
   "metadata": {},
   "source": [
    "## Import libraries\n",
    "\n",
    "Before running, please `pip install -r requirements.txt`"
   ]
  },
  {
   "cell_type": "code",
   "execution_count": 42,
   "metadata": {},
   "outputs": [
    {
     "name": "stdout",
     "output_type": "stream",
     "text": [
      "cuda\n"
     ]
    }
   ],
   "source": [
    "# import imp\n",
    "import time\n",
    "import subprocess\n",
    "import os\n",
    "import sys\n",
    "import json\n",
    "\n",
    "import socket\n",
    "import pygetwindow as gw\n",
    "\n",
    "import torch\n",
    "from torch import nn\n",
    "from torch.nn import functional as F\n",
    "import numpy as np\n",
    "import matplotlib.pyplot as plt\n",
    "import cvxpy as cp\n",
    "import pickle\n",
    "from tqdm import trange\n",
    "\n",
    "\n",
    "from matplotlib import rcParams\n",
    "# config = {\n",
    "#         \"font.family\":'Times New Roman',\n",
    "#         \"font.size\": 10,\n",
    "# }\n",
    "\n",
    "# rcParams.update(config)\n",
    "\n",
    "os.environ['KMP_DUPLICATE_LIB_OK']='True'\n",
    "\n",
    "device = torch.device(\"cuda\" if torch.cuda.is_available() else \"cpu\")  # cuda or cpu\n",
    "print(device)\n",
    "\n",
    "np.random.seed(42)\n",
    "torch.manual_seed(42)\n",
    "torch.cuda.manual_seed(42)"
   ]
  },
  {
   "cell_type": "code",
   "execution_count": 43,
   "metadata": {},
   "outputs": [],
   "source": [
    "def send_to_window(window_title, text):\n",
    "    '''\n",
    "    Close the window by `pygetwindow` library.\n",
    "    '''\n",
    "    cmd_window = gw.getWindowsWithTitle(window_title)\n",
    "    if not cmd_window:\n",
    "        print(f\"Window with title '{window_title}' not found.\")\n",
    "        return\n",
    "    \n",
    "    for window in cmd_window:\n",
    "        window.close()"
   ]
  },
  {
   "cell_type": "code",
   "execution_count": 44,
   "metadata": {},
   "outputs": [],
   "source": [
    "def HIL_disconnect():\n",
    "    '''\n",
    "    Exit RflySim simulation experiments by `taskkill` cmd, and close the window by `pygetwindow` library.\n",
    "    '''\n",
    "    time.sleep(1)\n",
    "    print('Exit hardware in the loop simulation software')\n",
    "    window_title = \"RflySimStart\" \n",
    "    \n",
    "    os.system('tasklist|find /i \"CopterSim.exe\" && taskkill /im \"CopterSim.exe\"')\n",
    "    os.system('tasklist|find /i \"QGroundControl.exe\" && taskkill /f /im \"QGroundControl.exe\"')\n",
    "    os.system('tasklist|find /i \"RflySim3D.exe\" && taskkill /f /im \"RflySim3D.exe\"')\n",
    "    time.sleep(1)\n",
    "    send_to_window(window_title, 'dir')\n",
    "    time.sleep(1)\n",
    "    send_to_window(\"Sample\", 'dir')\n",
    "    print('All closed')\n",
    "    time.sleep(5)"
   ]
  },
  {
   "cell_type": "markdown",
   "metadata": {},
   "source": [
    "## Generate 301 initial position data\n",
    "\n",
    "Sample 301 equally spaced locations around the target position as the initial position of the IBVS, centered on the target position."
   ]
  },
  {
   "cell_type": "code",
   "execution_count": 45,
   "metadata": {},
   "outputs": [],
   "source": [
    "sample_init_pos = []\n",
    "init_pos_y = -11.0\n",
    "init_pos_x = -5.0\n",
    "data_index = 0\n",
    "while data_index <= 300:\n",
    "    if data_index <= 40:\n",
    "        init_pos_x = init_pos_x - 0.2\n",
    "    elif data_index > 40 and data_index <= 150:\n",
    "        init_pos_y = init_pos_y + 0.2\n",
    "    elif data_index > 150 and data_index <= 190:\n",
    "        init_pos_x = init_pos_x + 0.2\n",
    "    else:\n",
    "        init_pos_y = init_pos_y - 0.2\n",
    "    data_index = data_index + 1\n",
    "    sample_init_pos.append([init_pos_x, init_pos_y])\n",
    "sample_init_pos = np.array(sample_init_pos)\n",
    "# Save these positions as .csv file\n",
    "np.savetxt('sample_init_data.csv',sample_init_pos,fmt=\"%f\",delimiter=',')\n",
    "\n",
    "is_init_dataset_file = \"D:\\\\Dlearning_PPO\\\\result\\\\is_init_dataset.txt\""
   ]
  },
  {
   "cell_type": "markdown",
   "metadata": {},
   "source": [
    "301 traces sampled from a set initial position"
   ]
  },
  {
   "cell_type": "code",
   "execution_count": 48,
   "metadata": {},
   "outputs": [
    {
     "data": {
      "text/plain": [
       "0"
      ]
     },
     "execution_count": 48,
     "metadata": {},
     "output_type": "execute_result"
    }
   ],
   "source": [
    "with open(is_init_dataset_file, 'w') as _file:\n",
    "    pass\n",
    "\n",
    "os.system('start \"RflySimStart\" \"D:\\\\Dlearning_PPO\\\\Bats\\\\CrossRing3SITL.bat\"')\n",
    "time.sleep(10)\n",
    "os.system('start \"Sample\" \"D:\\\\Dlearning_PPO\\\\Bats\\\\SampleData.bat\"')"
   ]
  },
  {
   "cell_type": "code",
   "execution_count": 49,
   "metadata": {},
   "outputs": [
    {
     "name": "stdout",
     "output_type": "stream",
     "text": [
      "Exit hardware in the loop simulation software\n",
      "Window with title 'RflySimStart' not found.\n",
      "Window with title 'Sample' not found.\n",
      "All closed\n"
     ]
    }
   ],
   "source": [
    "HIL_disconnect()\n",
    "\n",
    "os.remove(is_init_dataset_file)"
   ]
  },
  {
   "cell_type": "markdown",
   "metadata": {},
   "source": [
    "## Training Convolutional Neural Networks for Feature Extraction Based on Deep Metric Learning\n",
    "\n",
    "Refer to [Deep Metric Learning for Visual Servoing: When Pose and Image Meet in Latent Space](https://ieeexplore.ieee.org/document/10160963)"
   ]
  },
  {
   "cell_type": "code",
   "execution_count": 50,
   "metadata": {},
   "outputs": [
    {
     "data": {
      "text/plain": [
       "0"
      ]
     },
     "execution_count": 50,
     "metadata": {},
     "output_type": "execute_result"
    }
   ],
   "source": [
    "os.system('start \"TrainMetricLearning\" \"D:\\\\Dlearning_PPO\\\\Bats\\\\TrainMetricLearning.bat\"')"
   ]
  },
  {
   "cell_type": "markdown",
   "metadata": {},
   "source": [
    "Convert images to features and store in a new folder"
   ]
  },
  {
   "cell_type": "code",
   "execution_count": 51,
   "metadata": {},
   "outputs": [
    {
     "data": {
      "text/plain": [
       "0"
      ]
     },
     "execution_count": 51,
     "metadata": {},
     "output_type": "execute_result"
    }
   ],
   "source": [
    "os.system('start \"ImageToMetric\" \"D:\\\\Dlearning_PPO\\\\Bats\\\\ImageToMetric.bat\"')"
   ]
  },
  {
   "cell_type": "markdown",
   "metadata": {},
   "source": [
    "## Training controllers by offline D-learning\n",
    "\n",
    "Importing neural network controller libraries."
   ]
  },
  {
   "cell_type": "code",
   "execution_count": 52,
   "metadata": {},
   "outputs": [],
   "source": [
    "from Networks.cwp_net import ufunc, dNet, LyapunovNet\n",
    "\n",
    "# Folders for storing data, images and processed data from each experiment.\n",
    "image_parent = 'D:\\\\Dlearning_PPO\\\\images\\\\'\n",
    "pose_parent = 'D:\\\\Dlearning_PPO\\\\flight_data\\\\'\n",
    "metric_parent = 'D:\\\\Dlearning_PPO\\\\flight_data_metric\\\\'"
   ]
  },
  {
   "cell_type": "markdown",
   "metadata": {},
   "source": [
    "## Custom PCA Projection Function"
   ]
  },
  {
   "cell_type": "code",
   "execution_count": 53,
   "metadata": {},
   "outputs": [],
   "source": [
    "def my_pca(A):\n",
    "    MEAN = np.mean(A, axis=0)\n",
    "    X = np.subtract(A, MEAN)\n",
    "    COV = np.dot(X.T, X)\n",
    "    W, V = np.linalg.eig(COV)\n",
    "    sum_lambda = np.sum(W)\n",
    "    f = np.divide(W, sum_lambda)\n",
    "    e1 = V.T[0]\n",
    "    e2 = V.T[1]\n",
    "    z1 = np.dot(X, e1)\n",
    "    z2 = np.dot(X, e2)\n",
    "    RES = np.array([z1,z2]).T\n",
    "    return RES,np.array([e1,e2]).T"
   ]
  },
  {
   "cell_type": "markdown",
   "metadata": {},
   "source": [
    "Data splitting from flight track data."
   ]
  },
  {
   "cell_type": "code",
   "execution_count": 54,
   "metadata": {},
   "outputs": [],
   "source": [
    "def dataset_split(stateData_one_index):\n",
    "    uavPosNED          =   stateData_one_index[:,0:3]\n",
    "    uavVelNED          =   stateData_one_index[:,3:6]\n",
    "    uavAngEular        =   stateData_one_index[:,6:9]\n",
    "    uavAngRate         =   stateData_one_index[:,9:12]\n",
    "    delta_uv           =   stateData_one_index[:,12:14]\n",
    "    timestamp          =   stateData_one_index[:,18]\n",
    "    metric_encoding    =   stateData_one_index[:,19:]\n",
    "    metric_encoding_d  =   stateData_one_index[-1,19:]\n",
    "    return [\n",
    "        uavPosNED,         \n",
    "        uavVelNED,         \n",
    "        uavAngEular,       \n",
    "        uavAngRate,        \n",
    "        delta_uv,          \n",
    "        timestamp,         \n",
    "        metric_encoding,   \n",
    "        metric_encoding_d \n",
    "    ]"
   ]
  },
  {
   "cell_type": "markdown",
   "metadata": {},
   "source": [
    "Previously collected data used for training, `metric_dataset_dir` is the customized folder.\n",
    "\n",
    "The default folder is the most recent folder in `D:\\Dlearning_PPO\\flight_data_metric`"
   ]
  },
  {
   "cell_type": "code",
   "execution_count": 56,
   "metadata": {},
   "outputs": [],
   "source": [
    "stateData_all = []\n",
    "\n",
    "# 1. The most recent folder in `D:\\Dlearning_PPO\\flight_data_metric`\n",
    "metric_parent = \"D:\\\\Dlearning_PPO\\\\flight_data_metric\\\\\"\n",
    "files = os.listdir(metric_parent)\n",
    "files = sorted(files, key=lambda x: os.path.getmtime(os.path.join(metric_parent, x)))\n",
    "metric_dataset_dir = metric_parent + files[-1]\n",
    "\n",
    "# 2. The customized folder.\n",
    "# metric_dataset_dir = \"D:\\\\Dlearning_PPO\\\\flight_data_metric_PBVS\"\n",
    "\n",
    "file_num = len(os.listdir(metric_dataset_dir))\n",
    "\n",
    "for i in range(file_num):\n",
    "    filename =  metric_dataset_dir + '/cwp_dataengine_{}.csv'.format(str(i))\n",
    "    stateDataAll1 = np.loadtxt(open(filename,\"rb\"),delimiter=\",\",skiprows=1)\n",
    "    delta_uv = stateDataAll1[:,12:14] \n",
    "\n",
    "    t = stateDataAll1[0,18]\n",
    "    for i in range(len(stateDataAll1)):\n",
    "        stateDataAll1[i,18] = stateDataAll1[i,18] - t # Convert timestamp to start time\n",
    "\n",
    "    stateData_all.append(stateDataAll1)\n",
    "\n",
    "stateDataAll = stateData_all[0]\n",
    "for j in range(300):\n",
    "    j = j+1\n",
    "    stateDataAll = np.vstack((stateDataAll,stateData_all[j]))\n",
    "\n",
    "pca_list = stateDataAll[:,19:]\n",
    "my_pca_output , P_pca = my_pca(pca_list) # Cunstom PCA Projection"
   ]
  },
  {
   "cell_type": "code",
   "execution_count": 58,
   "metadata": {},
   "outputs": [],
   "source": [
    "class CWP_PPO():\n",
    "    def __init__(self,\n",
    "        LyapunovFunc: torch.nn.Module,\n",
    "        optimizer_lyap: torch.optim.Optimizer,         \n",
    "        DFunction: torch.nn.Module,\n",
    "        optimizer_dfunc: torch.optim.Optimizer,\n",
    "        ControllerNet: torch.nn.Module,\n",
    "        optimizer_ufunc: torch.optim.Optimizer,\n",
    "        device\n",
    "    ):\n",
    "        super(CWP_PPO, self).__init__()\n",
    "        self.lyapunov = LyapunovFunc\n",
    "        self.optimizer_lyap = optimizer_lyap\n",
    "        self.DFunction = DFunction\n",
    "        self.optimizer_dfunc = optimizer_dfunc\n",
    "        self.ControllerNet = ControllerNet\n",
    "        self.optimizer_ufunc = optimizer_ufunc\n",
    "        self.device = device\n",
    "\n",
    "    def learn_V_LNN(\n",
    "        self,\n",
    "        train_epoch: int,\n",
    "        stateData_all: list\n",
    "    ):\n",
    "        # dt = self.system.dt\n",
    "        print('--------------------------Learning V--------------------------')\n",
    "        # sample_data = sample_data.detach().clone()\n",
    "        # DONE: using sample_data = sample_data.detach().clone()\n",
    "        # RuntimeError: Trying to backward through the graph a second time \n",
    "        # (or directly access saved tensors after they have already been freed).\n",
    "        # Saved intermediate values of the graph are freed when you call \n",
    "        # .backward() or autograd.grad(). Specify retain_graph=True \n",
    "        # if you need to backward through the graph a second time or \n",
    "        # if you need to access saved tensors after calling backward\n",
    "        self.lyapunov.train()\n",
    "        criterion = torch.nn.MSELoss(reduction = 'sum')\n",
    "        # optimizer = torch.optim.Adam(DFunction.parameters(),lr =0.001,betas = (0.9,0.999),foreach=False)\n",
    "\n",
    "        model_loss = np.array([])\n",
    "\n",
    "        # loss_list = []\n",
    "        loss_values = []\n",
    "#         result = []\n",
    "        \n",
    "        for epoch in trange(train_epoch):\n",
    "            for j in range(len(stateData_all)):\n",
    "                result = []\n",
    "                [uavPosNED, uavVelNED, uavAngEular, uavAngRate,\n",
    "                delta_uv, timestamp, metric_encoding, metric_encoding_d] = dataset_split(stateData_all[j])\n",
    "                metric_list = torch.from_numpy(metric_encoding - metric_encoding_d ).to(self.device).to(torch.float32)\n",
    "                N = metric_list.shape[0] - 1\n",
    "                for ji in range(metric_list.shape[0] - 1):\n",
    "                    row_sum = torch.sum(metric_list[ji,:]**2)\n",
    "                    f = torch.sqrt(row_sum)\n",
    "                    result.append(f.item())  # 将结果添加到列表中，使用item()获取标量值\n",
    "                Circle_Tuning = torch.tensor(result).to(self.device).to(torch.float32)\n",
    "                Circle_Tuning = Circle_Tuning.squeeze()\n",
    "#                 print('ct',Circle_Tuning.shape)\n",
    "                L0 = self.lyapunov.V(metric_list[-1,:].view(1,-1))\n",
    "#                 print(metric_list[:-1,:].shape)\n",
    "                Ls = self.lyapunov.V(metric_list[:-1,:])\n",
    "                Ls_ = self.lyapunov.V(metric_list[1:,:])\n",
    "                dt = torch.from_numpy(timestamp[1:] - timestamp[:-1]).to(self.device).to(torch.float32)\n",
    "                dL = (Ls_ - Ls) / dt\n",
    "                SND = torch.sum(F.relu(dL+0.5))\n",
    "                PD = torch.sum(F.relu(-Ls))\n",
    "                Ls_squeezed = Ls.squeeze()\n",
    "#                 print(Ls_squeezed.shape)\n",
    "                loss = (PD + 1.5 * SND)/N + 1.2* L0.pow(2) + 2.2*((Circle_Tuning-6*Ls_squeezed).pow(2)).mean()\n",
    "                loss.backward(retain_graph = True)  # 计算损失的梯度\n",
    "                with torch.no_grad(): \n",
    "                    self.optimizer_lyap.step()                # 根据梯度更新模型参数\n",
    "                    self.optimizer_lyap.zero_grad()           # 清除梯度，准备下一个迭代\n",
    "                loss_values.append(loss.item())\n",
    "        # self.lyapunov_optimizer\n",
    "        # loss_values = []\n",
    "        return loss_values\n",
    "        # extend ROA\n",
    "        # Circle_Tuning = Tune(sample_data[:,0]).squeeze()\n",
    "       \n",
    "    def calc_lyap_value_nn(\n",
    "        self,\n",
    "        stateData_all: list,\n",
    "    ):\n",
    "        self.lyapunov.eval()\n",
    "        delta_v_list = []\n",
    "        lyap_dot_label_list = []\n",
    "        input_features_list = []\n",
    "\n",
    "\n",
    "        for j in range(len(stateData_all)):\n",
    "            dataLength = len(stateData_all[j])\n",
    "            [uavPosNED, uavVelNED, uavAngEular, uavAngRate,\n",
    "              delta_uv, timestamp, metric_encoding, metric_encoding_d] = dataset_split(stateData_all[j])\n",
    "            input_features = np.hstack((uavVelNED[0:dataLength-1,:],metric_encoding[0:dataLength-1,:] ))\n",
    "            lyap_dot_label = np.zeros(dataLength-1)\n",
    "            metric_list = torch.from_numpy(metric_encoding - metric_encoding_d ).to(self.device).to(torch.float32)\n",
    "            # lyap_dot_label = np.zeros(dataLength-1)\n",
    "            lyap_value = self.lyapunov.V(metric_list[:-1,:])\n",
    "            lyap_value_d = self.lyapunov.V(metric_list[1:,:])\n",
    "            lyap_dot_label = lyap_value - lyap_value_d\n",
    "\n",
    "            lyap_dot_label_list.append(lyap_dot_label.cpu().detach().numpy())\n",
    "            input_features_list.append(input_features)\n",
    "\n",
    "        return lyap_dot_label_list, input_features_list\n",
    "\n",
    "    def train_d_function(\n",
    "        self,\n",
    "        train_epoch: int,\n",
    "        input_features_list: list,\n",
    "        lyap_dot_label_list: list,\n",
    "        stateData_all: list,\n",
    "\n",
    "    ):\n",
    "\n",
    "        # DFunction = dNet().to(device)\n",
    "        self.DFunction.train()\n",
    "        self.ControllerNet.eval()\n",
    "        criterion = torch.nn.MSELoss(reduction = 'sum')\n",
    "        # optimizer = torch.optim.Adam(DFunction.parameters(),lr =0.001,betas = (0.9,0.999),foreach=False)\n",
    "\n",
    "        model_loss = np.array([])\n",
    "\n",
    "        loss_list = []\n",
    "        test_loss = np.array([])\n",
    "\n",
    "        for epoch in trange(train_epoch):\n",
    "            for j in range(len(input_features_list)):\n",
    "                # Select 285 trajectories as the training set\n",
    "                if j % 20 != 0 :\n",
    "                    dataLength = len(input_features_list[j])\n",
    "                    y_label = lyap_dot_label_list[j]\n",
    "                    delete_list = []\n",
    "                    # Because numerical simulation sometimes produces a certain delay,\n",
    "                    # At this time, the approximate derivative of the Lyapunov function may have a very small value,\n",
    "                    # This data needs to be cleared to reduce the impact on the solution of the D function.\n",
    "                    for ii in range(len(y_label)):\n",
    "                        if np.abs(y_label[ii])< 2e-6:\n",
    "                            delete_list.append(ii)\n",
    "                        if np.abs(y_label[ii])> 1.0:\n",
    "                            delete_list.append(ii)  \n",
    "                    y_label = np.delete(y_label,delete_list,0)\n",
    "                    y_label = torch.from_numpy(y_label).to(self.device)\n",
    "\n",
    "                    [uavPosNED, uavVelNED, uavAngEular, uavAngRate,\n",
    "                     delta_uv, timestamp, metric_encoding, metric_encoding_d] = dataset_split(stateData_all[j])\n",
    "                    metric_encoding = metric_encoding - metric_encoding_d\n",
    "                    d_feature = np.hstack((uavVelNED[0:dataLength,:],metric_encoding[0:dataLength,:] ))\n",
    "                    # Delete the index corresponding to the previously mentioned very small value\n",
    "                    d_feature = np.delete(d_feature,delete_list,0)\n",
    "                    d_feature = torch.from_numpy(d_feature).to(self.device)\n",
    "\n",
    "                    d_function = self.DFunction(d_feature.to(torch.float32))\n",
    "                    loss = criterion(d_function.to(torch.float32),y_label.view(-1,1).to(torch.float32))\n",
    "                    model_loss=np.append(model_loss,loss.cpu().detach().numpy())\n",
    "\n",
    "                    self.optimizer_dfunc.zero_grad()\n",
    "                    loss.backward()\n",
    "                    self.optimizer_dfunc.step()\n",
    "\n",
    "                # Select 15 trajectories as the testing set\n",
    "                else:\n",
    "                    with torch.no_grad():\n",
    "                        dataLength = len(input_features_list[j])\n",
    "                        y_label = lyap_dot_label_list[j]\n",
    "                        delete_list = []\n",
    "                        # Because numerical simulation sometimes produces a certain delay,\n",
    "                        # At this time, the approximate derivative of the Lyapunov function may have a very small value,\n",
    "                        # This data needs to be cleared to reduce the impact on the solution of the D function.\n",
    "                        for ii in range(len(y_label)):\n",
    "                            if np.abs(y_label[ii])< 2e-6:\n",
    "                                delete_list.append(ii)\n",
    "                            if np.abs(y_label[ii])> 1.0:\n",
    "                                delete_list.append(ii)  \n",
    "                        y_label = np.delete(y_label,delete_list,0)\n",
    "                        y_label = torch.from_numpy(y_label).to(self.device)\n",
    "\n",
    "                        [uavPosNED, uavVelNED, uavAngEular, uavAngRate,\n",
    "                         delta_uv, timestamp, metric_encoding, metric_encoding_d] = dataset_split(stateData_all[j])\n",
    "                        metric_encoding = metric_encoding - metric_encoding_d\n",
    "                        d_feature = np.hstack((uavVelNED[0:dataLength,:],metric_encoding[0:dataLength,:] ))\n",
    "                        # Delete the index corresponding to the previously mentioned very small value\n",
    "                        d_feature = np.delete(d_feature,delete_list,0)\n",
    "                        d_feature = torch.from_numpy(d_feature).to(self.device)\n",
    "\n",
    "                        d_function = self.DFunction(d_feature.to(torch.float32))\n",
    "                        loss = criterion(d_function.to(torch.float32),y_label.view(-1,1).to(torch.float32))\n",
    "                        test_loss=np.append(test_loss,loss.cpu().detach().numpy())\n",
    "        # DFunction_eval = self.DFunction.eval()\n",
    "\n",
    "        return model_loss, test_loss\n",
    "\n",
    "    def imitate_PPO(\n",
    "        self,\n",
    "        a_new,\n",
    "        a_old    \n",
    "    ):\n",
    "        Epsilon = 0.2\n",
    "        # Calculate ratio for each element\n",
    "        ratio = torch.norm(a_new / a_old, dim=1)  # dim=1 to calculate norm along rows\n",
    "        # Update a_new if ratio condition is met\n",
    "        for i in range(len(a_new)):\n",
    "            if ratio[i] <= 1 - Epsilon:\n",
    "                a_new[i] = a_old[i] * (1 - Epsilon)\n",
    "            elif ratio[i] >= 1 + Epsilon:\n",
    "                a_new[i] = a_old[i] * (1 + Epsilon)\n",
    "            else:\n",
    "                # No action needed if ratio is within bounds\n",
    "                pass\n",
    "        return a_new\n",
    "\n",
    "    def train_cwp_controller(\n",
    "        self,\n",
    "        train_epoch: int,\n",
    "        input_features_list: list,\n",
    "        lyap_dot_label_list: list,\n",
    "        stateData_all: list,\n",
    "    ):\n",
    "        # Use D function to analyze the stability\n",
    "        self.DFunction.eval()\n",
    "        # Neural Network Controller\n",
    "        # ControllerNet = ufunc().to(device)\n",
    "        self.ControllerNet.train()\n",
    "        criterion = torch.nn.MSELoss()\n",
    "        # optimizer = torch.optim.Adam(ControllerNet.parameters(),lr =5e-4,betas = (0.9,0.999))\n",
    "\n",
    "        u_train_loss = np.array([])\n",
    "        a_list = []\n",
    "\n",
    "        for epoch in trange(train_epoch):\n",
    "            for j in range(len(input_features_list)):\n",
    "                dataLength = len(input_features_list[j])\n",
    "                [uavPosNED, uavVelNED, uavAngEular, uavAngRate,\n",
    "                 delta_uv, timestamp, metric_encoding, metric_encoding_d] = dataset_split(stateData_all[j])\n",
    "                metric_encoding = metric_encoding - metric_encoding_d\n",
    "                output_acc_NED_tensor = torch.from_numpy(uavVelNED).to(self.device)\n",
    "                # input of controller\n",
    "                x_feature = metric_encoding\n",
    "                u_label = uavVelNED\n",
    "                u_label = torch.from_numpy(u_label).to(self.device)\n",
    "                x_feature = torch.from_numpy(x_feature).to(self.device)\n",
    "                # output of controller\n",
    "                control_output = self.ControllerNet(x_feature.to(torch.float32))\n",
    "                # Calculate L1 loss\n",
    "                lyap_dot = self.DFunction(torch.cat((control_output,x_feature),dim=1).to(torch.float32))\n",
    "                lyap_dot_1 = torch.zeros(dataLength-1)\n",
    "                for i in range(dataLength-1):\n",
    "                    lyap_dot_1[i] = lyap_dot[i] / (x_feature[i,:] @ x_feature[i,:]) \n",
    "                lyap_dot_max = torch.max(lyap_dot_1)\n",
    "\n",
    "                loss1 = F.relu(lyap_dot_max)\n",
    "                # Calculate L2 loss\n",
    "                loss2 = criterion(control_output.to(torch.float32),u_label.to(torch.float32))\n",
    "                # L = L1 + L2\n",
    "\n",
    "                loss = loss1 + 10*loss2\n",
    "\n",
    "                u_train_loss=np.append(u_train_loss,loss.cpu().detach().numpy())\n",
    "\n",
    "                self.optimizer_ufunc.zero_grad()\n",
    "                loss.backward()\n",
    "                self.optimizer_ufunc.step()\n",
    "        # ControllerNet_eval = ControllerNet.eval()\n",
    "\n",
    "        return u_train_loss\n",
    "    \n",
    "    def upper_bound_mean_variance_loss(\n",
    "        self,\n",
    "        output: torch.Tensor,\n",
    "        temp: torch.Tensor\n",
    "    ):\n",
    "        positive_penalty = torch.sum(torch.relu(output))\n",
    "        # upper_bound = torch.max(output, dim=0).values\n",
    "        upper_bound = torch.max(temp, dim=0).values\n",
    "        mean = torch.mean(output)\n",
    "        variance = torch.var(output)\n",
    "        return upper_bound*100 + mean*10 + variance*0 + positive_penalty*1000\n",
    "    \n",
    "    def train_cwp_ppo_controller(\n",
    "        self,\n",
    "        train_epoch: int,\n",
    "        input_features_list: list,\n",
    "        lyap_dot_label_list: list,\n",
    "        stateData_all: list,\n",
    "    ):\n",
    "        # Use D function to analyze the stability\n",
    "        self.DFunction.eval()\n",
    "        # Neural Network Controller\n",
    "        # ControllerNet = ufunc().to(device)\n",
    "        self.ControllerNet.train()\n",
    "        criterion = torch.nn.MSELoss()\n",
    "        # optimizer = torch.optim.Adam(ControllerNet.parameters(),lr =5e-4,betas = (0.9,0.999))\n",
    "\n",
    "        u_train_loss = np.array([])\n",
    "        a_list = []\n",
    "\n",
    "        for epoch in trange(train_epoch):\n",
    "            for j in range(len(input_features_list)):\n",
    "                dataLength = len(input_features_list[j])\n",
    "                [uavPosNED, uavVelNED, uavAngEular, uavAngRate,\n",
    "                 delta_uv, timestamp, metric_encoding, metric_encoding_d] = dataset_split(stateData_all[j])\n",
    "                metric_encoding = metric_encoding - metric_encoding_d\n",
    "                output_acc_NED_tensor = torch.from_numpy(uavVelNED).to(self.device)\n",
    "                # input of controller\n",
    "                x_feature = metric_encoding\n",
    "                u_label = uavVelNED\n",
    "                u_label = torch.from_numpy(u_label).to(self.device)\n",
    "                x_feature = torch.from_numpy(x_feature).to(self.device)\n",
    "                control_output = self.ControllerNet(x_feature.to(torch.float32))\n",
    "                control_output_clip = self.imitate_PPO(control_output, u_label)\n",
    "\n",
    "                lyap_dot = self.DFunction(torch.cat((control_output_clip, x_feature),dim=1).to(torch.float32))\n",
    "                lyap_dot_1 = torch.zeros(dataLength-1)\n",
    "                for i in range(dataLength-1):\n",
    "                    lyap_dot_1[i] = lyap_dot[i] / (x_feature[i,:] @ x_feature[i,:]) \n",
    "                lyap_dot_max = torch.max(lyap_dot_1)\n",
    "#                 loss1 = self.upper_bound_mean_variance_loss(lyap_dot, lyap_dot_1)\n",
    "                loss1 = F.relu(lyap_dot_max + 1.0)\n",
    "                print(loss1)\n",
    "                # Calculate L2 loss\n",
    "                loss2 = criterion(control_output_clip.to(torch.float32),u_label.to(torch.float32))\n",
    "                # L = L1 + L2\n",
    "                print(loss2)\n",
    "\n",
    "                loss = loss1  + 10*loss2\n",
    "\n",
    "                u_train_loss=np.append(u_train_loss,loss.cpu().detach().numpy())\n",
    "\n",
    "                self.optimizer_ufunc.zero_grad()\n",
    "                loss.backward()\n",
    "                self.optimizer_ufunc.step()\n",
    "        # ControllerNet_eval = ControllerNet.eval()\n",
    "\n",
    "        return u_train_loss\n",
    "\n",
    "    def load_model(self, file_path):\n",
    "        self.DFunction.load_state_dict(\n",
    "            torch.load( file_path + \"/dfunction.pth\")\n",
    "        )\n",
    "        self.ControllerNet.load_state_dict(\n",
    "            torch.load( file_path + \"/controller.pth\")\n",
    "        )\n",
    "        # torch.save(self.DFunction.state_dict(), file_path + \"/dfunction.pth\")\n",
    "        # torch.save(self.ControllerNet.state_dict(), file_path + \"/controller.pth\")\n",
    "\n",
    "    def save_model(self, file_path):\n",
    "        torch.save(self.DFunction.state_dict(), file_path + \"/dfunction.pth\")\n",
    "        torch.save(self.ControllerNet.state_dict(), file_path + \"/controller.pth\")"
   ]
  },
  {
   "cell_type": "code",
   "execution_count": 59,
   "metadata": {},
   "outputs": [],
   "source": [
    "delta_v_list = []\n",
    "lyap_dot_label_list = []\n",
    "input_features_list = []\n",
    "\n",
    "LyapFunction_now = LyapunovNet(n_states = 32, \n",
    "        n_hiddens = 128).to(device)\n",
    "optimizer_Lyap = torch.optim.Adam(LyapFunction_now.parameters(),lr =0.001,betas = (0.9,0.999),foreach=False)\n",
    "DFunction_now = dNet().to(device)\n",
    "optimizer_dfunc = torch.optim.Adam(DFunction_now.parameters(),lr =0.001,betas = (0.9,0.999),foreach=False)\n",
    "ControllerNet_now = ufunc().to(device)\n",
    "optimizer_ufunc = torch.optim.Adam(ControllerNet_now.parameters(),lr =0.001,betas = (0.9,0.999),foreach=False)\n",
    "\n",
    "cwp = CWP_PPO(\n",
    "    LyapunovFunc=LyapFunction_now,\n",
    "    optimizer_lyap=optimizer_Lyap,\n",
    "    DFunction=DFunction_now ,\n",
    "        optimizer_dfunc=optimizer_dfunc,\n",
    "        ControllerNet=ControllerNet_now,\n",
    "        optimizer_ufunc=optimizer_ufunc,\n",
    "        device=device)\n"
   ]
  },
  {
   "cell_type": "code",
   "execution_count": 60,
   "metadata": {},
   "outputs": [
    {
     "name": "stdout",
     "output_type": "stream",
     "text": [
      "--------------------------Learning V--------------------------\n"
     ]
    },
    {
     "name": "stderr",
     "output_type": "stream",
     "text": [
      "100%|██████████| 50/50 [10:00<00:00, 12.01s/it]\n"
     ]
    }
   ],
   "source": [
    "lyap_loss_values = cwp.learn_V_LNN(\n",
    "        train_epoch = 50,\n",
    "        stateData_all = stateData_all\n",
    "    )"
   ]
  },
  {
   "cell_type": "code",
   "execution_count": 61,
   "metadata": {},
   "outputs": [
    {
     "data": {
      "image/png": "[encoded data removed]",
      "text/plain": [
       "<Figure size 640x480 with 1 Axes>"
      ]
     },
     "metadata": {},
     "output_type": "display_data"
    }
   ],
   "source": [
    "fig, ax = plt.subplots()\n",
    "# ax.set_facecolor('#E6E6FA')\n",
    "ax.plot(lyap_loss_values[:],linewidth=2.0, label='Loss')\n",
    "# ax.grid(True, color='white', linewidth=1)\n",
    "\n",
    "ax.set_title('Loss Over Epochs')\n",
    "ax.set_xlabel('Epochs')\n",
    "ax.set_ylabel('Loss')\n",
    "# ax.legend()\n",
    "plt.show()"
   ]
  },
  {
   "cell_type": "markdown",
   "metadata": {},
   "source": [
    "Calculating the derivative of a Lyapunov function."
   ]
  },
  {
   "cell_type": "code",
   "execution_count": 62,
   "metadata": {},
   "outputs": [],
   "source": [
    "lyap_dot_label_list, input_features_list = cwp.calc_lyap_value_nn(\n",
    "            stateData_all = stateData_all\n",
    "        )\n",
    "# print(lyap_dot_label_list)"
   ]
  },
  {
   "cell_type": "markdown",
   "metadata": {},
   "source": [
    "Learning the D-function by fitting the derivative of the Lyapunov function"
   ]
  },
  {
   "cell_type": "code",
   "execution_count": 63,
   "metadata": {},
   "outputs": [
    {
     "name": "stderr",
     "output_type": "stream",
     "text": [
      "100%|██████████| 500/500 [10:56<00:00,  1.31s/it]\n"
     ]
    }
   ],
   "source": [
    "DFunction_now = dNet().to(device)\n",
    "\n",
    "optimizer_dfunc = torch.optim.Adam(DFunction_now.parameters(),lr =0.001,betas = (0.9,0.999),foreach=False)\n",
    "\n",
    "model_loss, test_loss= cwp.train_d_function(\n",
    "        train_epoch = 500,\n",
    "        input_features_list = input_features_list,\n",
    "        lyap_dot_label_list = lyap_dot_label_list,\n",
    "        stateData_all = stateData_all\n",
    "    )"
   ]
  },
  {
   "cell_type": "code",
   "execution_count": 64,
   "metadata": {},
   "outputs": [
    {
     "data": {
      "image/png": "[encoded data removed]",
      "text/plain": [
       "<Figure size 640x480 with 2 Axes>"
      ]
     },
     "metadata": {},
     "output_type": "display_data"
    }
   ],
   "source": [
    "# fig, ax = plt.subplots()\n",
    "# ax.set_facecolor('#E6E6FA')\n",
    "plt.subplot(2, 1, 1)\n",
    "plt.plot(model_loss[:],linewidth=2.0)\n",
    "plt.xlabel('Epochs')\n",
    "plt.ylabel('Loss')\n",
    "plt.title('Train Loss Over Epochs')\n",
    "plt.subplot(2, 1, 2)\n",
    "plt.plot(test_loss[:],'g-', linewidth=2.0,label='phi*a')\n",
    "plt.title('Test loss Over Epochs')\n",
    "plt.xlabel('Epochs')\n",
    "plt.ylabel('Loss')\n",
    "plt.tight_layout()\n",
    "# plt.savefig('d func loss.svg')\n",
    "plt.show()"
   ]
  },
  {
   "cell_type": "markdown",
   "metadata": {},
   "source": [
    "Learning the controller and save the model in the folder `./models/` ."
   ]
  },
  {
   "cell_type": "code",
   "execution_count": 65,
   "metadata": {},
   "outputs": [
    {
     "name": "stderr",
     "output_type": "stream",
     "text": [
      "100%|██████████| 50/50 [31:07<00:00, 37.35s/it]\n"
     ]
    }
   ],
   "source": [
    "ControllerNet_now = ufunc().to(device)\n",
    "\n",
    "optimizer_ufunc = torch.optim.Adam(ControllerNet_now.parameters(),lr =0.001,betas = (0.9,0.999),foreach=False)\n",
    "\n",
    "u_train_loss = cwp.train_cwp_controller(\n",
    "        train_epoch = 50,\n",
    "        input_features_list = input_features_list,\n",
    "        lyap_dot_label_list = lyap_dot_label_list,\n",
    "        stateData_all = stateData_all\n",
    "    )\n",
    "\n",
    "cwp.save_model('./models/')"
   ]
  },
  {
   "cell_type": "code",
   "execution_count": 66,
   "metadata": {},
   "outputs": [
    {
     "data": {
      "image/png": "[encoded data removed]",
      "text/plain": [
       "<Figure size 640x480 with 1 Axes>"
      ]
     },
     "metadata": {},
     "output_type": "display_data"
    }
   ],
   "source": [
    "\n",
    "plt.plot(u_train_loss[:],'g-', linewidth=2.0,label='phi*a')\n",
    "plt.title('Loss of Training Controller over Epoch')\n",
    "plt.xlabel('Epochs')\n",
    "plt.ylabel('Loss')\n",
    "plt.tight_layout()\n",
    "\n",
    "plt.show()\n",
    "cwp.save_model('./models/')"
   ]
  },
  {
   "cell_type": "markdown",
   "metadata": {},
   "source": [
    "## Online D-learning: DL-Clip and DL-Online\n",
    "\n",
    "Randomly selected initial points for iterative training"
   ]
  },
  {
   "cell_type": "code",
   "execution_count": 67,
   "metadata": {},
   "outputs": [],
   "source": [
    "def init_pos_random(sample_num : int):\n",
    "    sample_init_pos = []\n",
    "    init_pos_y = -11.0\n",
    "    init_pos_x = -5.0\n",
    "    data_index = 0\n",
    "\n",
    "    sample_array = np.random.choice(np.arange(1, 301), size=sample_num, replace=False)\n",
    "\n",
    "    while data_index <= 300:\n",
    "        if data_index <= 40:\n",
    "            init_pos_x = init_pos_x - 0.2\n",
    "        elif data_index > 40 and data_index <= 150:\n",
    "            init_pos_y = init_pos_y + 0.2\n",
    "        elif data_index > 150 and data_index <= 190:\n",
    "            init_pos_x = init_pos_x + 0.2\n",
    "        else:\n",
    "            init_pos_y = init_pos_y - 0.2\n",
    "        \n",
    "        data_index = data_index + 1\n",
    "        if np.isin(data_index, sample_array):\n",
    "            sample_init_pos.append([init_pos_x, init_pos_y])\n",
    "    sample_init_pos = np.array(sample_init_pos)\n",
    "    np.savetxt('sample_init_data.csv',sample_init_pos,fmt=\"%f\",delimiter=',')"
   ]
  },
  {
   "cell_type": "code",
   "execution_count": 27,
   "metadata": {},
   "outputs": [],
   "source": [
    "init_pos_random(sample_num = 10)"
   ]
  },
  {
   "cell_type": "code",
   "execution_count": null,
   "metadata": {},
   "outputs": [],
   "source": [
    "# Load Pre-trained Controller and D-function\n",
    "cwp.load_model('./models/')\n",
    "\n",
    "lyap_loss_list = np.array([])\n",
    "model_loss_list = np.array([])\n",
    "u_train_loss_list = np.array([])\n",
    "# Determining whether RflySim-based sampling is complete or not\n",
    "is_sample_end_path = 'D:\\\\Dlearning_PPO\\\\result\\\\is_sample_end.txt'\n",
    "# Determining whether the data feature extraction based on deep metric learning is complete or not\n",
    "is_metric_end_path = 'D:\\\\Dlearning_PPO\\\\result\\\\is_metric_end.txt'\n",
    "\n",
    "iteration = 0\n",
    "max_iterations = 20\n",
    "\n",
    "while iteration < max_iterations:\n",
    "    # init_pos_random(sample_num = 10)\n",
    "\n",
    "    # Sampling step\n",
    "    os.system('start \"RflySimStart\" \"D:\\\\Dlearning_PPO\\\\Bats\\\\CrossRing3SITL.bat\"')\n",
    "    time.sleep(10)\n",
    "    os.system('start \"Sample\" \"D:\\\\Dlearning_PPO\\\\Bats\\\\SampleData.bat\"')\n",
    "    while not os.path.exists(is_sample_end_path):\n",
    "        continue\n",
    "    if os.path.exists(is_sample_end_path):\n",
    "        print(\"Sample \"+ str(iteration) + \" end\")\n",
    "        os.remove(is_sample_end_path)\n",
    "        HIL_disconnect()\n",
    "        time.sleep(5)\n",
    "\n",
    "    # Feature extraction step\n",
    "    os.system('start \"ImageToMetric\" \"D:\\\\Dlearning_PPO\\\\Bats\\\\ImageToMetric.bat\"')\n",
    "    while not os.path.exists(is_metric_end_path):\n",
    "        continue\n",
    "    if os.path.exists(is_metric_end_path):\n",
    "        print(\"Image to Metric Encoding \"+ str(iteration) + \" end\")\n",
    "        os.remove(is_metric_end_path)\n",
    "        send_to_window(\"ImageToMetric\", 'dir')\n",
    "        time.sleep(6)\n",
    "\n",
    "    stateData_all = []\n",
    "    # Load flight data from sample trajectories\n",
    "    files = os.listdir(metric_parent)\n",
    "    files = sorted(files, key=lambda x: os.path.getmtime(os.path.join(metric_parent, x)))\n",
    "    metric_dataset_dir = metric_parent + files[-1]\n",
    "    for i in range(len(os.listdir(metric_dataset_dir))):\n",
    "        filename =  metric_dataset_dir + '/cwp_dataengine_{}.csv'.format(str(i))\n",
    "        if not os.path.exists(filename):\n",
    "            break\n",
    "        stateDataAll1 = np.loadtxt(open(filename,\"rb\"),delimiter=\",\",skiprows=1)\n",
    "        stateData_all.append(stateDataAll1)\n",
    "\n",
    "\n",
    "    # The epoch of each training step\n",
    "    epoch_per_iter = 1\n",
    "\n",
    "    # Training Lyapunov function\n",
    "    lyap_loss_values = cwp.learn_V_LNN(\n",
    "        train_epoch = epoch_per_iter,\n",
    "        stateData_all = stateData_all\n",
    "    )\n",
    "    # print(np.mean(lyap_loss_values))\n",
    "    lyap_loss_list = np.append(lyap_loss_list, lyap_loss_values)\n",
    "    # print(lyap_loss_list.shape)\n",
    "    lyap_dot_label_list, input_features_list = cwp.calc_lyap_value_nn(\n",
    "            stateData_all = stateData_all\n",
    "        )\n",
    "    \n",
    "    # Training D-function\n",
    "    model_loss, test_loss= cwp.train_d_function(\n",
    "        train_epoch = epoch_per_iter,\n",
    "        input_features_list = input_features_list,\n",
    "        lyap_dot_label_list = lyap_dot_label_list,\n",
    "        stateData_all = stateData_all\n",
    "    )\n",
    "\n",
    "    # print(np.mean(model_loss))\n",
    "    model_loss_list = np.append(model_loss_list, model_loss)\n",
    "    # print(model_loss_list.shape)\n",
    "\n",
    "    # Training DL-Clip\n",
    "    u_train_loss = cwp.train_cwp_ppo_controller(\n",
    "        train_epoch = epoch_per_iter,\n",
    "        input_features_list = input_features_list,\n",
    "        lyap_dot_label_list = lyap_dot_label_list,\n",
    "        stateData_all = stateData_all\n",
    "    )\n",
    "    # print(np.mean(u_train_loss))\n",
    "    u_train_loss_list = np.append(u_train_loss_list, u_train_loss)\n",
    "    # print(u_train_loss_list.shape)\n",
    "    \n",
    "    iteration = iteration + 1\n",
    "    \n",
    "    # Save the model trained in each iteration\n",
    "    if not os.path.exists('./models_{}/'.format(str(iteration))):\n",
    "        os.makedirs('./models_{}/'.format(str(iteration)))\n",
    "    cwp.save_model('./models_{}/'.format(str(iteration)))"
   ]
  },
  {
   "cell_type": "markdown",
   "metadata": {},
   "source": [
    "## Training results\n",
    "\n",
    "Includes controller performance comparisons and iterative performance change curves"
   ]
  },
  {
   "cell_type": "code",
   "execution_count": 34,
   "metadata": {},
   "outputs": [
    {
     "name": "stdout",
     "output_type": "stream",
     "text": [
      "flight_data_metric_2024-08-23_12-59-54 252.0\n",
      "flight_data_metric_2024-08-23_12-56-12 268.2\n",
      "flight_data_metric_2024-08-23_12-52-29 273.0\n",
      "flight_data_metric_2024-08-23_12-48-43 279.4\n",
      "flight_data_metric_2024-08-23_12-44-54 286.7\n",
      "flight_data_metric_2024-08-23_12-41-01 298.0\n",
      "flight_data_metric_2024-08-23_12-37-05 304.6\n",
      "flight_data_metric_2024-08-23_12-33-06 312.2\n",
      "flight_data_metric_2024-08-23_12-29-01 326.4\n",
      "flight_data_metric_2024-08-23_12-24-53 335.6\n",
      "flight_data_metric_2024-08-23_12-20-41 346.9\n",
      "flight_data_metric_2024-08-23_12-16-14 381.0\n",
      "flight_data_metric_2024-08-23_12-11-48 381.0\n",
      "flight_data_metric_2024-08-23_12-07-17 389.9\n",
      "flight_data_metric_2024-08-23_12-02-42 403.7\n",
      "flight_data_metric_2024-08-23_11-57-56 428.5\n",
      "flight_data_metric_2024-08-23_11-53-04 444.7\n",
      "flight_data_metric_2024-08-23_11-47-28 551.1\n",
      "flight_data_metric_2024-08-23_17-31-24 664.8\n",
      "flight_data_metric_2024-08-23_17-25-49 553.5\n",
      "flight_data_metric_2024-08-23_17-19-29 667.4\n",
      "flight_data_metric_2024-08-23_17-14-02 534.7\n",
      "flight_data_metric_2024-08-23_17-03-40 424.9\n",
      "flight_data_metric_2024-08-23_16-58-52 435.8\n",
      "flight_data_metric_2024-08-23_16-54-19 397.6\n",
      "flight_data_metric_2024-08-23_16-49-07 499.4\n",
      "flight_data_metric_2024-08-23_16-43-32 554.4\n",
      "flight_data_metric_2024-08-23_16-37-53 564.1\n",
      "flight_data_metric_2024-08-23_16-32-17 557.7\n",
      "flight_data_metric_2024-08-23_16-26-36 569.8\n",
      "flight_data_metric_2024-08-23_16-21-49 433.2\n",
      "flight_data_metric_2024-08-23_16-16-54 452.6\n",
      "flight_data_metric_2024-08-23_16-11-36 512.9\n",
      "flight_data_metric_2024-08-23_16-06-28 488.3\n",
      "flight_data_metric_2024-08-23_16-01-25 470.7\n",
      "flight_data_metric_2024-08-23_15-55-52 551.5\n"
     ]
    },
    {
     "data": {
      "image/png": "[encoded data removed]",
      "text/plain": [
       "<Figure size 640x480 with 1 Axes>"
      ]
     },
     "metadata": {},
     "output_type": "display_data"
    }
   ],
   "source": [
    "# DL-Online Iteration Dataset\n",
    "output_parent = './DL-Clip_dataset/'\n",
    "\n",
    "output_files = os.listdir(output_parent)\n",
    "output_files = sorted(output_files, key=lambda x: os.path.getmtime(os.path.join(output_parent, x)))\n",
    "output_files = output_files[::-1] # Depends on when the data was created\n",
    "length_array = np.zeros((18))\n",
    "j = 17\n",
    "\n",
    "for output_file in output_files:\n",
    "    output_dataset_dir = output_parent + output_file\n",
    "    len_sum = 0.0\n",
    "    for i in range(10):\n",
    "        filename =  output_dataset_dir + '/cwp_dataengine_{}.csv'.format(str(i))\n",
    "        if not os.path.exists(filename):\n",
    "            break\n",
    "        stateDataAll1 = np.loadtxt(open(filename,\"rb\"),delimiter=\",\",skiprows=1)\n",
    "        len_sum = len_sum + len(stateDataAll1)\n",
    "    print(output_file, len_sum / 10.0 )\n",
    "    length_array[j] = len_sum / 10.0\n",
    "    j = j - 1\n",
    "plt.plot(length_array,marker='o',label='DL-Clip')\n",
    "\n",
    "# DL-Online Iteration Dataset\n",
    "output_parent = './DL-Online_dataset/'\n",
    "\n",
    "output_files = os.listdir(output_parent)\n",
    "output_files = sorted(output_files, key=lambda x: os.path.getmtime(os.path.join(output_parent, x)))\n",
    "output_files = output_files[::-1] # Depends on when the data was created\n",
    "length_array = np.zeros((18))\n",
    "j = 17\n",
    "\n",
    "for output_file in output_files:\n",
    "    output_dataset_dir = output_parent + output_file\n",
    "    len_sum = 0.0\n",
    "    for i in range(10):\n",
    "        filename =  output_dataset_dir + '/cwp_dataengine_{}.csv'.format(str(i))\n",
    "        if not os.path.exists(filename):\n",
    "            break\n",
    "        stateDataAll1 = np.loadtxt(open(filename,\"rb\"),delimiter=\",\",skiprows=1)\n",
    "        len_sum = len_sum + len(stateDataAll1)\n",
    "    print(output_file, len_sum / 10.0 )\n",
    "    length_array[j] = len_sum / 10.0\n",
    "    j = j - 1\n",
    "plt.plot(length_array, marker='o', label='DL-Online')\n",
    "# plt.title('Convergence Steps over Iterations')\n",
    "plt.xlabel('Iterations')\n",
    "plt.ylabel('Convergence Steps')\n",
    "\n",
    "\n",
    "plt.grid(True)\n",
    "\n",
    "\n",
    "# plt.legend()\n",
    "plt.legend()\n",
    "# plt.savefig('Convergence Steps over Iterations.png', dpi=1500)\n",
    "plt.show()"
   ]
  }
 ],
 "metadata": {
  "kernelspec": {
   "display_name": "Python 3 (ipykernel)",
   "language": "python",
   "name": "python3"
  },
  "language_info": {
   "codemirror_mode": {
    "name": "ipython",
    "version": 3
   },
   "file_extension": ".py",
   "mimetype": "text/x-python",
   "name": "python",
   "nbconvert_exporter": "python",
   "pygments_lexer": "ipython3",
   "version": "3.8.19"
  }
 },
 "nbformat": 4,
 "nbformat_minor": 2
}
